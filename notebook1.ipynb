{
 "cells": [
  {
   "cell_type": "code",
   "execution_count": 1,
   "metadata": {},
   "outputs": [
    {
     "ename": "ModuleNotFoundError",
     "evalue": "No module named 'cv2'",
     "output_type": "error",
     "traceback": [
      "\u001b[0;31m---------------------------------------------------------------------------\u001b[0m",
      "\u001b[0;31mModuleNotFoundError\u001b[0m                       Traceback (most recent call last)",
      "Cell \u001b[0;32mIn [1], line 1\u001b[0m\n\u001b[0;32m----> 1\u001b[0m \u001b[39mimport\u001b[39;00m \u001b[39mcv2\u001b[39;00m\n\u001b[1;32m      2\u001b[0m \u001b[39mimport\u001b[39;00m \u001b[39mnumpy\u001b[39;00m \u001b[39mas\u001b[39;00m \u001b[39mnp\u001b[39;00m\n\u001b[1;32m      3\u001b[0m \u001b[39mfrom\u001b[39;00m \u001b[39mnumpy\u001b[39;00m\u001b[39m.\u001b[39;00m\u001b[39mlib\u001b[39;00m\u001b[39m.\u001b[39;00m\u001b[39mstride_tricks\u001b[39;00m \u001b[39mimport\u001b[39;00m as_strided\n",
      "\u001b[0;31mModuleNotFoundError\u001b[0m: No module named 'cv2'"
     ]
    }
   ],
   "source": [
    "import cv2\n",
    "import numpy as np\n",
    "from numpy.lib.stride_tricks import as_strided"
   ]
  },
  {
   "cell_type": "code",
   "execution_count": null,
   "metadata": {},
   "outputs": [
    {
     "ename": "",
     "evalue": "",
     "output_type": "error",
     "traceback": [
      "\u001b[1;31mRunning cells with 'Python 3.9.12 ('base')' requires ipykernel package.\n",
      "\u001b[1;31mRun the following command to install 'ipykernel' into the Python environment. \n",
      "\u001b[1;31mCommand: 'conda install -n base ipykernel --update-deps --force-reinstall'"
     ]
    }
   ],
   "source": [
    "tensor = cv2.imread('./test/ATLAS-OF-PLACES-LARS-VON-TRIER-MELANCHOLIA-IMG-1.jpg')"
   ]
  },
  {
   "cell_type": "code",
   "execution_count": null,
   "metadata": {},
   "outputs": [
    {
     "ename": "",
     "evalue": "",
     "output_type": "error",
     "traceback": [
      "\u001b[1;31mRunning cells with 'Python 3.9.12 ('base')' requires ipykernel package.\n",
      "\u001b[1;31mRun the following command to install 'ipykernel' into the Python environment. \n",
      "\u001b[1;31mCommand: 'conda install -n base ipykernel --update-deps --force-reinstall'"
     ]
    }
   ],
   "source": [
    "def convolve2D(tensor,kernel):\n",
    "    tensor = np.array(tensor).astype(np.int16)\n",
    "    window = np.array(kernel,dtype=np.int16)\n",
    "    size = window.shape[0] #must be equal with window.shape[0]\n",
    "    x = np.pad(tensor,((0,size),(0,size)),mode='edge') #padding...optional\n",
    "    input_height = x.shape[0]\n",
    "    input_width = x.shape[1]\n",
    "    output_height = input_height - size + 1\n",
    "    output_width = input_width - size + 1\n",
    "    shape=(output_height,output_width,size,size)\n",
    "    strides=(input_width*2,1*2,input_width*2,1*2)\n",
    "    to_be_convolved = as_strided(x,shape,strides)\n",
    "    convolved = np.sum(to_be_convolved*window,axis=(2,3),dtype=np.int16)\n",
    "    return convolved"
   ]
  },
  {
   "cell_type": "code",
   "execution_count": null,
   "metadata": {},
   "outputs": [
    {
     "ename": "",
     "evalue": "",
     "output_type": "error",
     "traceback": [
      "\u001b[1;31mRunning cells with 'Python 3.9.12 ('base')' requires ipykernel package.\n",
      "\u001b[1;31mRun the following command to install 'ipykernel' into the Python environment. \n",
      "\u001b[1;31mCommand: 'conda install -n base ipykernel --update-deps --force-reinstall'"
     ]
    }
   ],
   "source": [
    "def smoothOneChannel(tensor,kernel_size,channel):\n",
    "    tensor = np.array(tensor,dtype=np.int16)\n",
    "    tensor = np.pad(tensor,((0,kernel_size-1),(0,kernel_size-1),(0,0)),mode='edge')\n",
    "    x = np.array(tensor[:,:,channel])\n",
    "    input_height = x.shape[0]\n",
    "    input_width = x.shape[1]\n",
    "    output_height = input_height-kernel_size+1\n",
    "    output_width = input_width-kernel_size+1\n",
    "    shape = (output_height,output_width,kernel_size,kernel_size)\n",
    "    strides = (input_width*2,1*2,input_width*2,1*2)\n",
    "    to_be_convolved = as_strided(x,shape,strides)\n",
    "    convolved = np.sum(to_be_convolved,axis=(2,3))\n",
    "    convolved = convolved/(kernel_size*kernel_size)\n",
    "    convolved = convolved.astype(np.int16)\n",
    "    return convolved"
   ]
  },
  {
   "cell_type": "code",
   "execution_count": null,
   "metadata": {},
   "outputs": [
    {
     "ename": "",
     "evalue": "",
     "output_type": "error",
     "traceback": [
      "\u001b[1;31mRunning cells with 'Python 3.9.12 ('base')' requires ipykernel package.\n",
      "\u001b[1;31mRun the following command to install 'ipykernel' into the Python environment. \n",
      "\u001b[1;31mCommand: 'conda install -n base ipykernel --update-deps --force-reinstall'"
     ]
    }
   ],
   "source": [
    "def smooth(tensor,kernel_size):\n",
    "    return  np.dstack((smoothOneChannel(tensor,kernel_size,0),\n",
    "                        smoothOneChannel(tensor,kernel_size,1),\n",
    "                        smoothOneChannel(tensor,kernel_size,2)))"
   ]
  },
  {
   "cell_type": "code",
   "execution_count": null,
   "metadata": {},
   "outputs": [
    {
     "ename": "",
     "evalue": "",
     "output_type": "error",
     "traceback": [
      "\u001b[1;31mRunning cells with 'Python 3.9.12 ('base')' requires ipykernel package.\n",
      "\u001b[1;31mRun the following command to install 'ipykernel' into the Python environment. \n",
      "\u001b[1;31mCommand: 'conda install -n base ipykernel --update-deps --force-reinstall'"
     ]
    }
   ],
   "source": [
    "cv2.imwrite('./muie.jpg',smooth(tensor,50))"
   ]
  },
  {
   "cell_type": "code",
   "execution_count": null,
   "metadata": {},
   "outputs": [
    {
     "ename": "",
     "evalue": "",
     "output_type": "error",
     "traceback": [
      "\u001b[1;31mRunning cells with 'Python 3.9.12 ('base')' requires ipykernel package.\n",
      "\u001b[1;31mRun the following command to install 'ipykernel' into the Python environment. \n",
      "\u001b[1;31mCommand: 'conda install -n base ipykernel --update-deps --force-reinstall'"
     ]
    }
   ],
   "source": [
    "def sobel2D(tensor):\n",
    "    tensor = np.array(tensor).astype(np.int16)\n",
    "    window_v = np.array([[-1,0,1],[-2,0,2],[-1,0,1]],dtype=np.int16)\n",
    "    window_h = np.array([[-1,-2,-1],[0,0,0],[1,2,1]],dtype=np.int16)\n",
    "    size = window_h.shape[0] #must be equal with window_h.shape[0], window_v[0] and window_v[1]\n",
    "    x = np.pad(tensor,((0,size-1),(0,size-1)),mode='edge') #padding...optional\n",
    "    input_height = x.shape[0]\n",
    "    input_width = x.shape[1]\n",
    "    output_height = input_height - size + 1\n",
    "    output_width = input_width - size + 1\n",
    "    shape=(output_height,output_width,size,size)\n",
    "    strides=(input_width*2,1*2,input_width*2,1*2)\n",
    "    to_be_convolved = as_strided(x,shape,strides)\n",
    "    convolved_h = np.sum(to_be_convolved*window_h,axis=(2,3),dtype=np.int16)\n",
    "    convolved_v = np.sum(to_be_convolved*window_v,axis=(2,3),dtype=np.int16)\n",
    "    convolved_h = convolved_h.astype(np.int32)\n",
    "    convolved_v = convolved_v.astype(np.int32)\n",
    "    convolved = np.sqrt(convolved_v*convolved_v + convolved_h*convolved_h)\n",
    "    return convolved"
   ]
  },
  {
   "cell_type": "code",
   "execution_count": null,
   "metadata": {},
   "outputs": [
    {
     "ename": "",
     "evalue": "",
     "output_type": "error",
     "traceback": [
      "\u001b[1;31mRunning cells with 'Python 3.9.12 ('base')' requires ipykernel package.\n",
      "\u001b[1;31mRun the following command to install 'ipykernel' into the Python environment. \n",
      "\u001b[1;31mCommand: 'conda install -n base ipykernel --update-deps --force-reinstall'"
     ]
    }
   ],
   "source": [
    "def coloredEdges(tensor):\n",
    "    return np.dstack((sobel2D(tensor[:,:,0]),sobel2D(tensor[:,:,1]),sobel2D(tensor[:,:,2])))"
   ]
  },
  {
   "cell_type": "code",
   "execution_count": null,
   "metadata": {},
   "outputs": [
    {
     "ename": "",
     "evalue": "",
     "output_type": "error",
     "traceback": [
      "\u001b[1;31mRunning cells with 'Python 3.9.12 ('base')' requires ipykernel package.\n",
      "\u001b[1;31mRun the following command to install 'ipykernel' into the Python environment. \n",
      "\u001b[1;31mCommand: 'conda install -n base ipykernel --update-deps --force-reinstall'"
     ]
    }
   ],
   "source": [
    "cv2.imwrite('./pizda.jpg',coloredEdges(tensor))"
   ]
  },
  {
   "cell_type": "code",
   "execution_count": null,
   "metadata": {},
   "outputs": [
    {
     "ename": "",
     "evalue": "",
     "output_type": "error",
     "traceback": [
      "\u001b[1;31mRunning cells with 'Python 3.9.12 ('base')' requires ipykernel package.\n",
      "\u001b[1;31mRun the following command to install 'ipykernel' into the Python environment. \n",
      "\u001b[1;31mCommand: 'conda install -n base ipykernel --update-deps --force-reinstall'"
     ]
    }
   ],
   "source": [
    "def sobel3DGray(tensor):\n",
    "    tensor = np.mean(tensor,axis=2).astype(np.int16) #grayscale...optional\n",
    "    window_v = np.array([[-1,0,1],[-2,0,2],[-1,0,1]],dtype=np.int16)\n",
    "    window_h = np.array([[-1,-2,-1],[0,0,0],[1,2,1]],dtype=np.int16)\n",
    "    size = window_h.shape[0] #must be equal with window_h.shape[0], window_v[0] and window_v[1]\n",
    "    x = np.pad(tensor,((0,size-1),(0,size-1)),mode='edge') #padding...optional\n",
    "    input_height = x.shape[0]\n",
    "    input_width = x.shape[1]\n",
    "    output_height = input_height - size + 1\n",
    "    output_width = input_width - size + 1\n",
    "    shape=(output_height,output_width,size,size)\n",
    "    strides=(input_width*2,1*2,input_width*2,1*2)\n",
    "    to_be_convolved = as_strided(x,shape,strides)\n",
    "    convolved_h = np.sum(to_be_convolved*window_h,axis=(2,3),dtype=np.int16)\n",
    "    convolved_v = np.sum(to_be_convolved*window_v,axis=(2,3),dtype=np.int16)\n",
    "    convolved_h = convolved_h.astype(np.int32)\n",
    "    convolved_v = convolved_v.astype(np.int32)\n",
    "    convolved = np.sqrt(convolved_v*convolved_v + convolved_h*convolved_h)\n",
    "    convolved = np.expand_dims(convolved,axis=2) #for 3D results...\n",
    "    convolved = np.dstack((convolved,convolved,convolved)) #...optional\n",
    "    return convolved"
   ]
  },
  {
   "cell_type": "code",
   "execution_count": null,
   "metadata": {},
   "outputs": [
    {
     "ename": "",
     "evalue": "",
     "output_type": "error",
     "traceback": [
      "\u001b[1;31mRunning cells with 'Python 3.9.12 ('base')' requires ipykernel package.\n",
      "\u001b[1;31mRun the following command to install 'ipykernel' into the Python environment. \n",
      "\u001b[1;31mCommand: 'conda install -n base ipykernel --update-deps --force-reinstall'"
     ]
    }
   ],
   "source": [
    "cv2.imwrite('./pula.jpg',sobel3DGray(tensor))"
   ]
  }
 ],
 "metadata": {
  "kernelspec": {
   "display_name": "Python 3.10.6 ('lenv1')",
   "language": "python",
   "name": "python3"
  },
  "language_info": {
   "codemirror_mode": {
    "name": "ipython",
    "version": 3
   },
   "file_extension": ".py",
   "mimetype": "text/x-python",
   "name": "python",
   "nbconvert_exporter": "python",
   "pygments_lexer": "ipython3",
   "version": "3.10.6"
  },
  "orig_nbformat": 4,
  "vscode": {
   "interpreter": {
    "hash": "6a40df69ecc138345b7a826717d6a319a2ddf8e71887f8834d0e5ef30ba5acd5"
   }
  }
 },
 "nbformat": 4,
 "nbformat_minor": 2
}
